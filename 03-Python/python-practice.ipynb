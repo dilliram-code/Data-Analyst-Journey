{
 "cells": [
  {
   "cell_type": "code",
   "execution_count": 6,
   "id": "d14706a6",
   "metadata": {},
   "outputs": [
    {
     "name": "stdout",
     "output_type": "stream",
     "text": [
      "[1 2 3 4 5]\n"
     ]
    }
   ],
   "source": [
    "# Numpy Practice\n",
    "##One dimensional array\n",
    "import numpy as np\n",
    "one_d_array = np.array([1,2,3,4,5])\n",
    "two_d_array = np.array([[1,2,3], ['Sun','Mon','Tue' ]])\n",
    "print(\"One Dimensional Array:\"one_d_array)"
   ]
  },
  {
   "cell_type": "code",
   "execution_count": null,
   "id": "e14c93d2",
   "metadata": {},
   "outputs": [],
   "source": []
  }
 ],
 "metadata": {
  "kernelspec": {
   "display_name": "Python 3 (ipykernel)",
   "language": "python",
   "name": "python3"
  },
  "language_info": {
   "codemirror_mode": {
    "name": "ipython",
    "version": 3
   },
   "file_extension": ".py",
   "mimetype": "text/x-python",
   "name": "python",
   "nbconvert_exporter": "python",
   "pygments_lexer": "ipython3",
   "version": "3.10.0"
  }
 },
 "nbformat": 4,
 "nbformat_minor": 5
}
