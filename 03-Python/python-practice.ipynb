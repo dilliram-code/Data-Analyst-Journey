{
 "cells": [
  {
   "cell_type": "markdown",
   "id": "feeb0ca5",
   "metadata": {},
   "source": [
    "# Numpy Practice\n",
    "##One dimensional array\n",
    "import numpy as np\n",
    "one_d_array = np.array([1,2,3,4,5])\n",
    "two_d_array = np.array([[1,2,3], ['Sun','Mon','Tue' ]])\n",
    "print(\"One Dimensional Array:\", one_d_array)\n",
    "print(\"Two Dimensional Array:\", two_d_array)"
   ]
  },
  {
   "cell_type": "markdown",
   "id": "6d591a2b",
   "metadata": {},
   "source": [
    "# There is the difference between the list and array multiplication"
   ]
  },
  {
   "cell_type": "code",
   "execution_count": null,
   "id": "887f8e76",
   "metadata": {},
   "outputs": [],
   "source": [
    "my_list = [1,2,3,4]\n",
    "my_array = np.array([1,2,3,4])\n",
    "list_multiplication = my_list*2\n",
    "array_multiplication = "
   ]
  }
 ],
 "metadata": {
  "kernelspec": {
   "display_name": "Python 3 (ipykernel)",
   "language": "python",
   "name": "python3"
  },
  "language_info": {
   "codemirror_mode": {
    "name": "ipython",
    "version": 3
   },
   "file_extension": ".py",
   "mimetype": "text/x-python",
   "name": "python",
   "nbconvert_exporter": "python",
   "pygments_lexer": "ipython3",
   "version": "3.10.0"
  }
 },
 "nbformat": 4,
 "nbformat_minor": 5
}
